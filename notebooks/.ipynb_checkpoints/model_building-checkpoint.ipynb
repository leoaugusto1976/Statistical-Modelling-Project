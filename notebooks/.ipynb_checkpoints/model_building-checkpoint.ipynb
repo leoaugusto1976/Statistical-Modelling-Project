{
 "cells": [
  {
   "cell_type": "markdown",
   "metadata": {},
   "source": [
    "Build a regression model."
   ]
  },
  {
   "cell_type": "code",
   "execution_count": 51,
   "metadata": {},
   "outputs": [],
   "source": [
    "import pandas as pd\n",
    "import statsmodels.formula.api as smf\n",
    "import sqlite3\n",
    "conn = sqlite3.connect(r'../data/poi_Greenville_SC.db')\n",
    "df = pd.read_sql_query(\"select * from poi\", conn)\n",
    "conn.close()\n",
    "\n",
    "# independent variables\n",
    "X = df[['price', 'rating']]\n",
    "\n",
    "# dependent variables\n",
    "y = df[['station_number_of_bikes']]"
   ]
  },
  {
   "cell_type": "code",
   "execution_count": 52,
   "metadata": {
    "tags": []
   },
   "outputs": [
    {
     "data": {
      "text/plain": [
       "(118, 2)"
      ]
     },
     "execution_count": 52,
     "metadata": {},
     "output_type": "execute_result"
    }
   ],
   "source": [
    "X.shape"
   ]
  },
  {
   "cell_type": "code",
   "execution_count": 45,
   "metadata": {
    "tags": []
   },
   "outputs": [
    {
     "name": "stdout",
     "output_type": "stream",
     "text": [
      "Bad data points (bonf(p) < 0.05):\n"
     ]
    },
    {
     "data": {
      "text/html": [
       "<div>\n",
       "<style scoped>\n",
       "    .dataframe tbody tr th:only-of-type {\n",
       "        vertical-align: middle;\n",
       "    }\n",
       "\n",
       "    .dataframe tbody tr th {\n",
       "        vertical-align: top;\n",
       "    }\n",
       "\n",
       "    .dataframe thead th {\n",
       "        text-align: right;\n",
       "    }\n",
       "</style>\n",
       "<table border=\"1\" class=\"dataframe\">\n",
       "  <thead>\n",
       "    <tr style=\"text-align: right;\">\n",
       "      <th></th>\n",
       "      <th>student_resid</th>\n",
       "      <th>unadj_p</th>\n",
       "      <th>bonf(p)</th>\n",
       "    </tr>\n",
       "  </thead>\n",
       "  <tbody>\n",
       "  </tbody>\n",
       "</table>\n",
       "</div>"
      ],
      "text/plain": [
       "Empty DataFrame\n",
       "Columns: [student_resid, unadj_p, bonf(p)]\n",
       "Index: []"
      ]
     },
     "execution_count": 45,
     "metadata": {},
     "output_type": "execute_result"
    }
   ],
   "source": [
    "# Find outliers\n",
    "import statsmodels.formula.api as smapi\n",
    "regression = smapi.ols(\"data ~ X\", data=dict(data=y, x=X)).fit()\n",
    "regression.summary()\n",
    "\n",
    "test = regression.outlier_test()\n",
    "#test\n",
    "\n",
    "print('Bad data points (bonf(p) < 0.05):')\n",
    "test[test['bonf(p)'] < 0.05]"
   ]
  },
  {
   "cell_type": "markdown",
   "metadata": {},
   "source": [
    "Provide model output and an interpretation of the results. "
   ]
  },
  {
   "cell_type": "code",
   "execution_count": 47,
   "metadata": {
    "tags": []
   },
   "outputs": [
    {
     "name": "stdout",
     "output_type": "stream",
     "text": [
      "                                   OLS Regression Results                                   \n",
      "============================================================================================\n",
      "Dep. Variable:     station_number_of_bikes   R-squared (uncentered):                   0.713\n",
      "Model:                                 OLS   Adj. R-squared (uncentered):              0.711\n",
      "Method:                      Least Squares   F-statistic:                              291.2\n",
      "Date:                     Sat, 02 Sep 2023   Prob (F-statistic):                    1.56e-33\n",
      "Time:                             15:22:45   Log-Likelihood:                         -268.37\n",
      "No. Observations:                      118   AIC:                                      538.7\n",
      "Df Residuals:                          117   BIC:                                      541.5\n",
      "Df Model:                                1                                                  \n",
      "Covariance Type:                 nonrobust                                                  \n",
      "==============================================================================\n",
      "                 coef    std err          t      P>|t|      [0.025      0.975]\n",
      "------------------------------------------------------------------------------\n",
      "rating         0.4668      0.027     17.064      0.000       0.413       0.521\n",
      "==============================================================================\n",
      "Omnibus:                        8.892   Durbin-Watson:                   1.800\n",
      "Prob(Omnibus):                  0.012   Jarque-Bera (JB):                4.394\n",
      "Skew:                          -0.242   Prob(JB):                        0.111\n",
      "Kurtosis:                       2.187   Cond. No.                         1.00\n",
      "==============================================================================\n",
      "\n",
      "Notes:\n",
      "[1] R² is computed without centering (uncentered) since the model does not contain a constant.\n",
      "[2] Standard Errors assume that the covariance matrix of the errors is correctly specified.\n"
     ]
    }
   ],
   "source": [
    "# Single variable\n",
    "\n",
    "import statsmodels.api as sm\n",
    "X = sm.add_constant(X) # adding a constant\n",
    "lin_reg = sm.OLS(y,X['rating'])\n",
    "model = lin_reg.fit()\n",
    "print_model = model.summary()\n",
    "print(print_model)"
   ]
  },
  {
   "cell_type": "code",
   "execution_count": null,
   "metadata": {},
   "outputs": [],
   "source": [
    "'''\n",
    "############################\n",
    "Interpretation of the result\n",
    "############################\n",
    "\n",
    "An R-squared of 0.713 suggests that approximately 71.3% of the total variation in the dependent variable (number of bikes) \n",
    "is explained by the independent variable(s) (rating) included in the model.\n",
    "This is a relatively high percentage, indicating a strong relationship between the number of bikes and rating.\n",
    "\n",
    "- R-squared (uncentered): 0.713\n",
    "\n",
    "This R-squared value indicates that approximately 71.3% of the variation in the \"rating\" variable is explained by the \"station_number_of_bikes.\" \n",
    "In other words, the number of bikes at a station has a reasonably strong explanatory power for predicting ratings.\n",
    "\n",
    "- Adj. R-squared (uncentered): 0.711\n",
    "\n",
    "The adjusted R-squared takes into account the number of predictors in the model. \n",
    "In this case, it's very close to the R-squared value, indicating that adding additional predictors may not significantly improve the model's explanatory power.\n",
    "\n",
    "- F-statistic: 291.2\n",
    "\n",
    "The F-statistic tests the overall significance of the regression model. \n",
    "A high F-statistic suggests that the independent variable in the model is significantly related to the dependent variable. \n",
    "In this case, the F-statistic is quite high, indicating that the model as a whole is statistically significant.\n",
    "\n",
    "- Prob (F-statistic): 1.56e-33\n",
    "\n",
    "The p-value associated with the F-statistic is very close to zero (1.56e-33), which is much smaller than the typical significance level of 0.05. \n",
    "This indicates that the model is highly significant, and the independent variable is contributing significantly to the model.\n",
    "\n",
    "- Coefficient (coef) for \"rating\": 0.4668\n",
    "\n",
    "The coefficient represents the change in the \"rating\" variable for a one-unit change in the number of bikes.\n",
    "In this case, for each additional bike at a station, the \"rating\" increases by approximately 0.4668 units.\n",
    "\n",
    "\n",
    "In summary, this regression analysis suggests that the number of bikes at a station (\"station_number_of_bikes\") is a statistically significant predictor of the \"rating\" variable. \n",
    "The model explains about 71.3% of the variation in ratings, and for each additional bike at a station, the rating tends to increase by approximately 0.4668 units. \n",
    "The model appears to be a good fit for the data, as indicated by the high R-squared and F-statistic.\n",
    "\n",
    "'''"
   ]
  },
  {
   "cell_type": "markdown",
   "metadata": {},
   "source": [
    "# Stretch"
   ]
  },
  {
   "cell_type": "markdown",
   "metadata": {},
   "source": [
    "How can you turn the regression model into a classification model?"
   ]
  },
  {
   "cell_type": "code",
   "execution_count": 48,
   "metadata": {},
   "outputs": [],
   "source": [
    "'''\n",
    "\n",
    "For instance, we can categorize ratings as 'High' or 'Low.' We define 'High' as ratings greater than 5 and 'Low' as ratings less than or equal to 5. \n",
    "Using these predefined categories, we can employ Logistic Classification to predict whether a station will receive a 'High' or 'Low' rating based on the number of bikes it has available.\n",
    "\n",
    "In Logistic Classification, we assign 'High' a label of 1 and 'Low' a label of 0. \n",
    "The independent variable used for this classification is 'station_number_of_bikes,' and our goal is to determine whether the station's rating falls into the 'High' or 'Low' category.\"\n",
    "\n",
    "\n",
    "'''"
   ]
  }
 ],
 "metadata": {
  "kernelspec": {
   "display_name": "Python 3 (ipykernel)",
   "language": "python",
   "name": "python3"
  },
  "language_info": {
   "codemirror_mode": {
    "name": "ipython",
    "version": 3
   },
   "file_extension": ".py",
   "mimetype": "text/x-python",
   "name": "python",
   "nbconvert_exporter": "python",
   "pygments_lexer": "ipython3",
   "version": "3.11.3"
  }
 },
 "nbformat": 4,
 "nbformat_minor": 4
}
